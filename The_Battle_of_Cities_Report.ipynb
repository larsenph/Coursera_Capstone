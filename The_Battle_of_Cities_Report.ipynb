{
 "cells": [
  {
   "cell_type": "markdown",
   "metadata": {},
   "source": [
    "# The Battle of Cities Report\n",
    "\n",
    "A Capstone report for week 4 of IBM's Applied Data Science Capstone online course on Coursera.  "
   ]
  },
  {
   "cell_type": "markdown",
   "metadata": {},
   "source": [
    "### Introduction / Business Problem"
   ]
  },
  {
   "cell_type": "markdown",
   "metadata": {},
   "source": [
    "Many individuals are taking this course to better themselves and their careers. But where would they look to live after earning their IBM Data Science Professional Certificate? Well, for those interested in a data science career at IBM's headquarters in Armonk, NY, this report will help to decide which nearby city to call home.\n",
    "\n",
    "This report will look at cities deemed within a commutable distance from IBM's headquarters, examine the local venues and venue types of each, and suggest which cities individuals may prefer to live based on lifestyle preferences, family size, and other criteria. Upcoming data scientists can focus their attention elsewhere when preparing for the future, because they will have a solid grasp on which city is a good fit for them."
   ]
  },
  {
   "cell_type": "markdown",
   "metadata": {},
   "source": [
    "---"
   ]
  },
  {
   "cell_type": "markdown",
   "metadata": {},
   "source": [
    "### Data"
   ]
  },
  {
   "cell_type": "markdown",
   "metadata": {},
   "source": [
    "To determine which cities were close to IBM's headquarters, FreeMapTools' free tool to find zip codes within a specified radius was utilized. Not only did it return zip codes, but a list of cities as well as cities combined with their distance from IBM's headquarters. Using the latitude and longitude coordinates of the headquarters, a radius of 50mi was originally specified. But it was deemed unhelpful for the scope of this project, and changed to a more reasonable commute of 35mi instead.\n",
    "\n",
    "A link to the tool from FreeMapTools is below:  \n",
    "https://www.freemaptools.com/find-zip-codes-inside-radius.htm\n",
    "\n",
    "So far, this data only provides a list of cities within a commutable distance. To determine nearby venues and then venue types of each city, Foursquare's location data will be of assistance. Just a few examples of venue types are \"Coffee Shop\", \"Hotel\", and \"Park\". This information will be retrieved via code in Python, using the user's Foursquare credentials. Then ultimately, all of this data will be used to offer recommendations on which cities individuals would like to live."
   ]
  },
  {
   "cell_type": "markdown",
   "metadata": {},
   "source": [
    "---"
   ]
  },
  {
   "cell_type": "markdown",
   "metadata": {},
   "source": [
    "Notebook created by Paige Larsen. "
   ]
  }
 ],
 "metadata": {
  "kernelspec": {
   "display_name": "Python",
   "language": "python",
   "name": "conda-env-python-py"
  },
  "language_info": {
   "codemirror_mode": {
    "name": "ipython",
    "version": 3
   },
   "file_extension": ".py",
   "mimetype": "text/x-python",
   "name": "python",
   "nbconvert_exporter": "python",
   "pygments_lexer": "ipython3",
   "version": "3.6.7"
  }
 },
 "nbformat": 4,
 "nbformat_minor": 4
}
